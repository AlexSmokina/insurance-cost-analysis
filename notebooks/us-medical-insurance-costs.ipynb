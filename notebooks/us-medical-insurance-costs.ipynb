{
 "cells": [
  {
   "cell_type": "markdown",
   "metadata": {},
   "source": [
    "# U.S. Medical Insurance Costs"
   ]
  },
  {
   "cell_type": "markdown",
   "metadata": {},
   "source": [
    "## Project Scope"
   ]
  },
  {
   "cell_type": "markdown",
   "metadata": {},
   "source": [
    "\n",
    "1.  Age vs. Cost Relationship\n",
    "\n",
    "*   Explore how medical costs vary across age groups.\n",
    "*   Consider binning ages (e.g., 18–25, 26–35…) to visualize trends.\n",
    "\n",
    "2. BMI Impact on Charges\n",
    "\n",
    "*   Investigate whether higher BMI correlates with increased medical costs.\n",
    "*   Could be extended to explore interaction effects with smoking status.\n",
    "\n",
    "3. Regional Cost Disparities\n",
    "\n",
    "*   Compare average charges across different regions.\n",
    "*   Useful for identifying systemic differences or policy implications.\n",
    "\n",
    "4. Children and Cost\n",
    "\n",
    "*   Analyze if the number of children a patient has affects insurance charges.\n",
    "*   Could hint at family coverage dynamics or socioeconomic factors.\n",
    "\n",
    "5. Multivariate Cost Drivers\n",
    "\n",
    "*   Build a simple regression or decision tree to identify which features most influence cost.\n",
    "*   Helps prioritize interventions or policy recommendations.\n",
    "\n",
    "6. Outlier Detection\n",
    "\n",
    "*   Identify patients with unusually high or low charges.\n",
    "*   Useful for flagging data quality issues or rare cases.\n",
    "\n",
    "7. Gender + Smoking Interaction\n",
    "\n",
    "*   Compare costs across four groups: male smoker, male non-smoker, female smoker, female non-smoker.\n",
    "*   Reveals compound effects that might be missed in isolated comparisons.\n",
    "\n",
    "8. Distribution Analysis\n",
    "\n",
    "*   Visualize the distribution of charges, ages, or BMI to understand skewness and spread.\n",
    "*   Supports decisions on normalization or transformation for modeling."
   ]
  },
  {
   "cell_type": "markdown",
   "metadata": {},
   "source": [
    "#### Dataset Exploration"
   ]
  },
  {
   "cell_type": "code",
   "execution_count": 34,
   "metadata": {},
   "outputs": [
    {
     "data": {
      "text/markdown": [
       "**Data Overview**"
      ],
      "text/plain": [
       "<IPython.core.display.Markdown object>"
      ]
     },
     "metadata": {},
     "output_type": "display_data"
    },
    {
     "name": "stdout",
     "output_type": "stream",
     "text": [
      "   age     sex     bmi  children smoker     region      charges\n",
      "0   19  female  27.900         0    yes  southwest  16884.92400\n",
      "1   18    male  33.770         1     no  southeast   1725.55230\n",
      "2   28    male  33.000         3     no  southeast   4449.46200\n",
      "3   33    male  22.705         0     no  northwest  21984.47061\n",
      "4   32    male  28.880         0     no  northwest   3866.85520\n"
     ]
    },
    {
     "data": {
      "text/markdown": [
       "**Data Info**"
      ],
      "text/plain": [
       "<IPython.core.display.Markdown object>"
      ]
     },
     "metadata": {},
     "output_type": "display_data"
    },
    {
     "name": "stdout",
     "output_type": "stream",
     "text": [
      "<class 'pandas.core.frame.DataFrame'>\n",
      "RangeIndex: 1338 entries, 0 to 1337\n",
      "Data columns (total 7 columns):\n",
      " #   Column    Non-Null Count  Dtype  \n",
      "---  ------    --------------  -----  \n",
      " 0   age       1338 non-null   int64  \n",
      " 1   sex       1338 non-null   object \n",
      " 2   bmi       1338 non-null   float64\n",
      " 3   children  1338 non-null   int64  \n",
      " 4   smoker    1338 non-null   object \n",
      " 5   region    1338 non-null   object \n",
      " 6   charges   1338 non-null   float64\n",
      "dtypes: float64(2), int64(2), object(3)\n",
      "memory usage: 73.3+ KB\n"
     ]
    },
    {
     "data": {
      "text/html": [
       "<div>\n",
       "<style scoped>\n",
       "    .dataframe tbody tr th:only-of-type {\n",
       "        vertical-align: middle;\n",
       "    }\n",
       "\n",
       "    .dataframe tbody tr th {\n",
       "        vertical-align: top;\n",
       "    }\n",
       "\n",
       "    .dataframe thead th {\n",
       "        text-align: right;\n",
       "    }\n",
       "</style>\n",
       "<table border=\"1\" class=\"dataframe\">\n",
       "  <thead>\n",
       "    <tr style=\"text-align: right;\">\n",
       "      <th></th>\n",
       "      <th>age</th>\n",
       "      <th>bmi</th>\n",
       "      <th>children</th>\n",
       "      <th>charges</th>\n",
       "    </tr>\n",
       "  </thead>\n",
       "  <tbody>\n",
       "    <tr>\n",
       "      <th>count</th>\n",
       "      <td>1338.000000</td>\n",
       "      <td>1338.000000</td>\n",
       "      <td>1338.000000</td>\n",
       "      <td>1338.000000</td>\n",
       "    </tr>\n",
       "    <tr>\n",
       "      <th>mean</th>\n",
       "      <td>39.207025</td>\n",
       "      <td>30.663397</td>\n",
       "      <td>1.094918</td>\n",
       "      <td>13270.422265</td>\n",
       "    </tr>\n",
       "    <tr>\n",
       "      <th>std</th>\n",
       "      <td>14.049960</td>\n",
       "      <td>6.098187</td>\n",
       "      <td>1.205493</td>\n",
       "      <td>12110.011237</td>\n",
       "    </tr>\n",
       "    <tr>\n",
       "      <th>min</th>\n",
       "      <td>18.000000</td>\n",
       "      <td>15.960000</td>\n",
       "      <td>0.000000</td>\n",
       "      <td>1121.873900</td>\n",
       "    </tr>\n",
       "    <tr>\n",
       "      <th>25%</th>\n",
       "      <td>27.000000</td>\n",
       "      <td>26.296250</td>\n",
       "      <td>0.000000</td>\n",
       "      <td>4740.287150</td>\n",
       "    </tr>\n",
       "    <tr>\n",
       "      <th>50%</th>\n",
       "      <td>39.000000</td>\n",
       "      <td>30.400000</td>\n",
       "      <td>1.000000</td>\n",
       "      <td>9382.033000</td>\n",
       "    </tr>\n",
       "    <tr>\n",
       "      <th>75%</th>\n",
       "      <td>51.000000</td>\n",
       "      <td>34.693750</td>\n",
       "      <td>2.000000</td>\n",
       "      <td>16639.912515</td>\n",
       "    </tr>\n",
       "    <tr>\n",
       "      <th>max</th>\n",
       "      <td>64.000000</td>\n",
       "      <td>53.130000</td>\n",
       "      <td>5.000000</td>\n",
       "      <td>63770.428010</td>\n",
       "    </tr>\n",
       "  </tbody>\n",
       "</table>\n",
       "</div>"
      ],
      "text/plain": [
       "               age          bmi     children       charges\n",
       "count  1338.000000  1338.000000  1338.000000   1338.000000\n",
       "mean     39.207025    30.663397     1.094918  13270.422265\n",
       "std      14.049960     6.098187     1.205493  12110.011237\n",
       "min      18.000000    15.960000     0.000000   1121.873900\n",
       "25%      27.000000    26.296250     0.000000   4740.287150\n",
       "50%      39.000000    30.400000     1.000000   9382.033000\n",
       "75%      51.000000    34.693750     2.000000  16639.912515\n",
       "max      64.000000    53.130000     5.000000  63770.428010"
      ]
     },
     "execution_count": 34,
     "metadata": {},
     "output_type": "execute_result"
    }
   ],
   "source": [
    "import pandas as pd\n",
    "from IPython.display import Markdown\n",
    "\n",
    "dataframe = pd.read_csv('../data/insurance.csv')\n",
    "\n",
    "display(Markdown('**Data Overview**'))\n",
    "print(dataframe.head())\n",
    "\n",
    "display(Markdown('**Data Info**'))\n",
    "dataframe.info()\n",
    "dataframe.describe()"
   ]
  },
  {
   "cell_type": "markdown",
   "metadata": {},
   "source": [
    "    The dataset contains 1,338 entries with no missing values, covering demographic and lifestyle factors that may influence medical insurance charges. \n",
    "\n",
    "Key features include:\n",
    "\n",
    "*   Age: Ranges from young adults to seniors\n",
    "*   Sex: Binary classification (male/female)\n",
    "*   BMI: Continuous variable indicating body mass index\n",
    "*   Children: Number of dependents\n",
    "*   Smoker: Yes/No indicator\n",
    "*   Region: Four U.S. regions (northeast, northwest, southeast, southwest)\n",
    "*   Charges: Annual medical insurance cost in USD\n",
    "*   Max Age is 64 and Min Age is 18\n",
    "*   Average insurance cost is 13270$\n",
    "\n",
    "\n",
    "Initial Observations\n",
    "\n",
    "*   Charges vary widely, with some individuals incurring costs above $20,000.\n",
    "*   Smokers appear to be associated with higher charges.\n",
    "*   Regional and gender-based differences may exist, warranting further analysis.\n",
    "*   The dataset is well-structured and ready for statistical exploration or modeling.\n"
   ]
  },
  {
   "cell_type": "markdown",
   "metadata": {},
   "source": [
    "#### Age vs. Cost Relationship"
   ]
  },
  {
   "cell_type": "code",
   "execution_count": 38,
   "metadata": {},
   "outputs": [
    {
     "name": "stdout",
     "output_type": "stream",
     "text": [
      "[19, 18, 28, 33, 32, 31, 46, 37, 37, 60, 25, 62, 23, 56, 27, 19, 52, 23, 56, 30, 60, 30, 18, 34, 37, 59, 63, 55, 23, 31, 22, 18, 19, 63, 28, 19, 62, 26, 35, 60, 24, 31, 41, 37, 38, 55, 18, 28, 60, 36, 18, 21, 48, 36, 40, 58, 58, 18, 53, 34, 43, 25, 64, 28, 20, 19, 61, 40, 40, 28, 27, 31, 53, 58, 44, 57, 29, 21, 22, 41, 31, 45, 22, 48, 37, 45, 57, 56, 46, 55, 21, 53, 59, 35, 64, 28, 54, 55, 56, 38, 41, 30, 18, 61, 34, 20, 19, 26, 29, 63, 54, 55, 37, 21, 52, 60, 58, 29, 49, 37, 44, 18, 20, 44, 47, 26, 19, 52, 32, 38, 59, 61, 53, 19, 20, 22, 19, 22, 54, 22, 34, 26, 34, 29, 30, 29, 46, 51, 53, 19, 35, 48, 32, 42, 40, 44, 48, 18, 30, 50, 42, 18, 54, 32, 37, 47, 20, 32, 19, 27, 63, 49, 18, 35, 24, 63, 38, 54, 46, 41, 58, 18, 22, 44, 44, 36, 26, 30, 41, 29, 61, 36, 25, 56, 18, 19, 39, 45, 51, 64, 19, 48, 60, 27, 46, 28, 59, 35, 63, 40, 20, 40, 24, 34, 45, 41, 53, 27, 26, 24, 34, 53, 32, 19, 42, 55, 28, 58, 41, 47, 42, 59, 19, 59, 39, 40, 18, 31, 19, 44, 23, 33, 55, 40, 63, 54, 60, 24, 19, 29, 18, 63, 54, 27, 50, 55, 56, 38, 51, 19, 58, 20, 52, 19, 53, 46, 40, 59, 45, 49, 18, 50, 41, 50, 25, 47, 19, 22, 59, 51, 40, 54, 30, 55, 52, 46, 46, 63, 59, 52, 28, 29, 25, 22, 25, 18, 19, 47, 31, 48, 36, 53, 56, 28, 57, 29, 28, 30, 58, 41, 50, 19, 43, 49, 27, 52, 50, 54, 44, 32, 34, 26, 34, 57, 29, 40, 27, 45, 64, 52, 61, 52, 61, 56, 43, 64, 60, 62, 50, 46, 24, 62, 60, 63, 49, 34, 33, 46, 36, 19, 57, 50, 30, 33, 18, 46, 46, 47, 23, 18, 48, 35, 19, 21, 21, 49, 56, 42, 44, 18, 61, 57, 42, 26, 20, 23, 39, 24, 64, 62, 27, 55, 55, 35, 44, 19, 58, 50, 26, 24, 48, 19, 48, 49, 46, 46, 43, 21, 64, 18, 51, 47, 64, 49, 31, 52, 33, 47, 38, 32, 19, 44, 26, 25, 19, 43, 52, 36, 64, 63, 64, 61, 40, 25, 48, 45, 38, 18, 21, 27, 19, 29, 42, 60, 31, 60, 22, 35, 52, 26, 31, 33, 18, 59, 56, 45, 60, 56, 40, 35, 39, 30, 24, 20, 32, 59, 55, 57, 56, 40, 49, 42, 62, 56, 19, 30, 60, 56, 28, 18, 27, 18, 19, 47, 54, 61, 24, 25, 21, 23, 63, 49, 18, 51, 48, 31, 54, 19, 44, 53, 19, 61, 18, 61, 21, 20, 31, 45, 44, 62, 29, 43, 51, 19, 38, 37, 22, 21, 24, 57, 56, 27, 51, 19, 39, 58, 20, 45, 35, 31, 50, 32, 51, 38, 42, 18, 19, 51, 46, 18, 57, 62, 59, 37, 64, 38, 33, 46, 46, 53, 34, 20, 63, 54, 54, 49, 28, 54, 25, 43, 63, 32, 62, 52, 25, 28, 46, 34, 35, 19, 46, 54, 27, 50, 18, 19, 38, 41, 49, 48, 31, 18, 30, 62, 57, 58, 22, 31, 52, 25, 59, 19, 39, 32, 19, 33, 21, 34, 61, 38, 58, 47, 20, 21, 41, 46, 42, 34, 43, 52, 18, 51, 56, 64, 19, 51, 27, 59, 28, 30, 47, 38, 18, 34, 20, 47, 56, 49, 19, 55, 30, 37, 49, 18, 59, 29, 36, 33, 58, 44, 53, 24, 29, 40, 51, 64, 19, 35, 39, 56, 33, 42, 61, 23, 43, 48, 39, 40, 18, 58, 49, 53, 48, 45, 59, 52, 26, 27, 48, 57, 37, 57, 32, 18, 64, 43, 49, 40, 62, 40, 30, 29, 36, 41, 44, 45, 55, 60, 56, 49, 21, 19, 39, 53, 33, 53, 42, 40, 47, 27, 21, 47, 20, 24, 27, 26, 53, 41, 56, 23, 21, 50, 53, 34, 47, 33, 51, 49, 31, 36, 18, 50, 43, 20, 24, 60, 49, 60, 51, 58, 51, 53, 62, 19, 50, 30, 41, 29, 18, 41, 35, 53, 24, 48, 59, 49, 37, 26, 23, 29, 45, 27, 53, 31, 50, 50, 34, 19, 47, 28, 37, 21, 64, 58, 24, 31, 39, 47, 30, 18, 22, 23, 33, 27, 45, 57, 47, 42, 64, 38, 61, 53, 44, 19, 41, 51, 40, 45, 35, 53, 30, 18, 51, 50, 31, 35, 60, 21, 29, 62, 39, 19, 22, 53, 39, 27, 30, 30, 58, 33, 42, 64, 21, 18, 23, 45, 40, 19, 18, 25, 46, 33, 54, 28, 36, 20, 24, 23, 47, 33, 45, 26, 18, 44, 60, 64, 56, 36, 41, 39, 63, 36, 28, 58, 36, 42, 36, 56, 35, 59, 21, 59, 23, 57, 53, 60, 51, 23, 27, 55, 37, 61, 46, 53, 49, 20, 48, 25, 25, 57, 37, 38, 55, 36, 51, 40, 18, 57, 61, 25, 50, 26, 42, 43, 44, 23, 49, 33, 41, 37, 22, 23, 21, 51, 25, 32, 57, 36, 22, 57, 64, 36, 54, 47, 62, 61, 43, 19, 18, 19, 49, 60, 26, 49, 60, 26, 27, 44, 63, 32, 22, 18, 59, 44, 33, 24, 43, 45, 61, 35, 62, 62, 38, 34, 43, 50, 19, 57, 62, 41, 26, 39, 46, 45, 32, 59, 44, 39, 18, 53, 18, 50, 18, 19, 62, 56, 42, 37, 42, 25, 57, 51, 30, 44, 34, 31, 54, 24, 43, 48, 19, 29, 63, 46, 52, 35, 51, 44, 21, 39, 50, 34, 22, 19, 26, 29, 48, 26, 45, 36, 54, 34, 31, 27, 20, 44, 43, 45, 34, 24, 26, 38, 50, 38, 27, 39, 39, 63, 33, 36, 30, 24, 24, 48, 47, 29, 28, 47, 25, 51, 48, 43, 61, 48, 38, 59, 19, 26, 54, 21, 51, 22, 47, 18, 47, 21, 19, 23, 54, 37, 46, 55, 30, 18, 61, 54, 22, 45, 22, 19, 35, 18, 20, 28, 55, 43, 43, 22, 25, 49, 44, 64, 49, 47, 27, 55, 48, 45, 24, 32, 24, 57, 59, 36, 29, 42, 48, 39, 63, 54, 37, 63, 21, 54, 60, 32, 47, 21, 28, 63, 18, 32, 38, 32, 62, 39, 55, 57, 52, 56, 47, 55, 23, 22, 50, 18, 51, 22, 52, 25, 33, 53, 29, 58, 37, 54, 49, 50, 26, 45, 54, 38, 48, 28, 23, 55, 41, 25, 33, 30, 23, 46, 53, 27, 23, 63, 55, 35, 34, 19, 39, 27, 57, 52, 28, 50, 44, 26, 33, 19, 50, 41, 52, 39, 50, 52, 60, 20, 55, 42, 18, 58, 43, 35, 48, 36, 19, 23, 20, 32, 43, 34, 30, 18, 41, 35, 57, 29, 32, 37, 18, 43, 56, 38, 29, 22, 52, 40, 23, 31, 42, 24, 25, 48, 23, 45, 20, 62, 43, 23, 31, 41, 58, 48, 31, 19, 19, 41, 40, 31, 37, 46, 22, 51, 18, 35, 59, 36, 37, 59, 36, 39, 18, 52, 27, 18, 40, 29, 46, 38, 30, 40, 50, 20, 41, 33, 38, 42, 56, 58, 52, 20, 54, 58, 45, 26, 63, 58, 37, 25, 52, 64, 22, 28, 18, 28, 45, 33, 18, 32, 24, 19, 20, 40, 34, 42, 51, 54, 55, 52, 32, 28, 41, 43, 49, 64, 55, 24, 20, 45, 26, 25, 43, 35, 26, 57, 22, 32, 39, 25, 48, 47, 18, 18, 61, 47, 28, 36, 20, 44, 38, 19, 21, 46, 58, 20, 18, 28, 33, 19, 45, 62, 25, 43, 42, 24, 29, 32, 25, 41, 42, 33, 34, 19, 30, 18, 19, 18, 35, 39, 31, 62, 62, 42, 31, 61, 42, 51, 23, 52, 57, 23, 52, 50, 18, 18, 21, 61]\n",
      "[16884.924, 1725.5523, 4449.462, 21984.47061, 3866.8552, 3756.6216, 8240.5896, 7281.5056, 6406.4107, 28923.13692, 2721.3208, 27808.7251, 1826.843, 11090.7178, 39611.7577, 1837.237, 10797.3362, 2395.17155, 10602.385, 36837.467, 13228.84695, 4149.736, 1137.011, 37701.8768, 6203.90175, 14001.1338, 14451.83515, 12268.63225, 2775.19215, 38711.0, 35585.576, 2198.18985, 4687.797, 13770.0979, 51194.55914, 1625.43375, 15612.19335, 2302.3, 39774.2763, 48173.361, 3046.062, 4949.7587, 6272.4772, 6313.759, 6079.6715, 20630.28351, 3393.35635, 3556.9223, 12629.8967, 38709.176, 2211.13075, 3579.8287, 23568.272, 37742.5757, 8059.6791, 47496.49445, 13607.36875, 34303.1672, 23244.7902, 5989.52365, 8606.2174, 4504.6624, 30166.61817, 4133.64165, 14711.7438, 1743.214, 14235.072, 6389.37785, 5920.1041, 17663.1442, 16577.7795, 6799.458, 11741.726, 11946.6259, 7726.854, 11356.6609, 3947.4131, 1532.4697, 2755.02095, 6571.02435, 4441.21315, 7935.29115, 37165.1638, 11033.6617, 39836.519, 21098.55405, 43578.9394, 11073.176, 8026.6666, 11082.5772, 2026.9741, 10942.13205, 30184.9367, 5729.0053, 47291.055, 3766.8838, 12105.32, 10226.2842, 22412.6485, 15820.699, 6186.127, 3645.0894, 21344.8467, 30942.1918, 5003.853, 17560.37975, 2331.519, 3877.30425, 2867.1196, 47055.5321, 10825.2537, 11881.358, 4646.759, 2404.7338, 11488.31695, 30259.99556, 11381.3254, 19107.7796, 8601.3293, 6686.4313, 7740.337, 1705.6245, 2257.47525, 39556.4945, 10115.00885, 3385.39915, 17081.08, 9634.538, 32734.1863, 6082.405, 12815.44495, 13616.3586, 11163.568, 1632.56445, 2457.21115, 2155.6815, 1261.442, 2045.68525, 27322.73386, 2166.732, 27375.90478, 3490.5491, 18972.495, 18157.876, 20745.9891, 5138.2567, 40720.55105, 9877.6077, 10959.6947, 1842.519, 5125.2157, 7789.635, 6334.34355, 19964.7463, 7077.1894, 6948.7008, 21223.6758, 15518.18025, 36950.2567, 19749.38338, 21348.706, 36149.4835, 10450.552, 5152.134, 5028.1466, 10407.08585, 4830.63, 6128.79745, 2719.27975, 4827.90495, 13405.3903, 8116.68, 1694.7964, 5246.047, 2855.43755, 48824.45, 6455.86265, 10436.096, 8823.279, 8538.28845, 11735.87905, 1631.8212, 4005.4225, 7419.4779, 7731.4271, 43753.33705, 3981.9768, 5325.651, 6775.961, 4922.9159, 12557.6053, 4883.866, 2137.6536, 12044.342, 1137.4697, 1639.5631, 5649.715, 8516.829, 9644.2525, 14901.5167, 2130.6759, 8871.1517, 13012.20865, 37133.8982, 7147.105, 4337.7352, 11743.299, 20984.0936, 13880.949, 6610.1097, 1980.07, 8162.71625, 3537.703, 5002.7827, 8520.026, 7371.772, 10355.641, 2483.736, 3392.9768, 25081.76784, 5012.471, 10564.8845, 5253.524, 34779.615, 19515.5416, 11987.1682, 2689.4954, 24227.33724, 7358.17565, 9225.2564, 7443.64305, 14001.2867, 1727.785, 12333.828, 6710.1919, 19444.2658, 1615.7667, 4463.2051, 17352.6803, 7152.6714, 38511.6283, 5354.07465, 35160.13457, 7196.867, 29523.1656, 24476.47851, 12648.7034, 1986.9334, 1832.094, 4040.55825, 12829.4551, 47305.305, 44260.7499, 4260.744, 41097.16175, 13047.33235, 43921.1837, 5400.9805, 11520.09985, 33750.2918, 11837.16, 17085.2676, 24869.8368, 36219.40545, 20462.99766, 46151.1245, 17179.522, 14590.63205, 7441.053, 9282.4806, 1719.4363, 42856.838, 7265.7025, 9617.66245, 2523.1695, 9715.841, 2803.69785, 2150.469, 12928.7911, 9855.1314, 22331.5668, 48549.17835, 4237.12655, 11879.10405, 9625.92, 7742.1098, 9432.9253, 14256.1928, 47896.79135, 25992.82104, 3172.018, 20277.80751, 42112.2356, 2156.7518, 3906.127, 1704.5681, 16297.846, 21978.6769, 38746.3551, 9249.4952, 6746.7425, 24873.3849, 12265.5069, 4349.462, 12646.207, 19442.3535, 20177.67113, 4151.0287, 11944.59435, 7749.1564, 8444.474, 1737.376, 42124.5153, 8124.4084, 34838.873, 9722.7695, 8835.26495, 10435.06525, 7421.19455, 4667.60765, 4894.7533, 24671.66334, 35491.64, 11566.30055, 2866.091, 6600.20595, 3561.8889, 42760.5022, 47928.03, 9144.565, 48517.56315, 24393.6224, 13429.0354, 11658.37915, 19144.57652, 13822.803, 12142.5786, 13937.6665, 41919.097, 8232.6388, 18955.22017, 13352.0998, 13217.0945, 13981.85035, 10977.2063, 6184.2994, 4889.9995, 8334.45755, 5478.0368, 1635.73365, 11830.6072, 8932.084, 3554.203, 12404.8791, 14133.03775, 24603.04837, 8944.1151, 9620.3307, 1837.2819, 1607.5101, 10043.249, 4751.07, 13844.506, 2597.779, 3180.5101, 9778.3472, 13430.265, 8017.06115, 8116.26885, 3481.868, 13415.0381, 12029.2867, 7639.41745, 36085.219, 1391.5287, 18033.9679, 21659.9301, 38126.2465, 16455.70785, 27000.98473, 15006.57945, 42303.69215, 20781.48892, 5846.9176, 8302.53565, 1261.859, 11856.4115, 30284.64294, 3176.8159, 4618.0799, 10736.87075, 2138.0707, 8964.06055, 9290.1395, 9411.005, 7526.70645, 8522.003, 16586.49771, 14988.432, 1631.6683, 9264.797, 8083.9198, 14692.66935, 10269.46, 3260.199, 11396.9002, 4185.0979, 8539.671, 6652.5288, 4074.4537, 1621.3402, 19594.80965, 14455.64405, 5080.096, 2134.9015, 7345.7266, 9140.951, 18608.262, 14418.2804, 28950.4692, 46889.2612, 46599.1084, 39125.33225, 2727.3951, 8968.33, 9788.8659, 6555.07035, 7323.734819, 3167.45585, 18804.7524, 23082.95533, 4906.40965, 5969.723, 12638.195, 4243.59005, 13919.8229, 2254.7967, 5926.846, 12592.5345, 2897.3235, 4738.2682, 37079.372, 1149.3959, 28287.89766, 26109.32905, 7345.084, 12730.9996, 11454.0215, 5910.944, 4762.329, 7512.267, 4032.2407, 1969.614, 1769.53165, 4686.3887, 21797.0004, 11881.9696, 11840.77505, 10601.412, 7682.67, 10381.4787, 22144.032, 15230.32405, 11165.41765, 1632.03625, 19521.9682, 13224.693, 12643.3778, 23288.9284, 2201.0971, 2497.0383, 2203.47185, 1744.465, 20878.78443, 25382.297, 28868.6639, 35147.52848, 2534.39375, 1534.3045, 1824.2854, 15555.18875, 9304.7019, 1622.1885, 9880.068, 9563.029, 4347.02335, 12475.3513, 1253.936, 48885.13561, 10461.9794, 1748.774, 24513.09126, 2196.4732, 12574.049, 17942.106, 1967.0227, 4931.647, 8027.968, 8211.1002, 13470.86, 36197.699, 6837.3687, 22218.1149, 32548.3405, 5974.3847, 6796.86325, 2643.2685, 3077.0955, 3044.2133, 11455.28, 11763.0009, 2498.4144, 9361.3268, 1256.299, 21082.16, 11362.755, 27724.28875, 8413.46305, 5240.765, 3857.75925, 25656.57526, 3994.1778, 9866.30485, 5397.6167, 38245.59327, 11482.63485, 24059.68019, 9861.025, 8342.90875, 1708.0014, 48675.5177, 14043.4767, 12925.886, 19214.70553, 13831.1152, 6067.12675, 5972.378, 8825.086, 8233.0975, 27346.04207, 6196.448, 3056.3881, 13887.204, 63770.42801, 10231.4999, 23807.2406, 3268.84665, 11538.421, 3213.62205, 45863.205, 13390.559, 3972.9247, 12957.118, 11187.6567, 17878.90068, 3847.674, 8334.5896, 3935.1799, 39983.42595, 1646.4297, 9193.8385, 10923.9332, 2494.022, 9058.7303, 2801.2588, 2128.43105, 6373.55735, 7256.7231, 11552.904, 45702.02235, 3761.292, 2219.4451, 4753.6368, 31620.00106, 13224.05705, 12222.8983, 1664.9996, 58571.07448, 9724.53, 3206.49135, 12913.9924, 1639.5631, 6356.2707, 17626.23951, 1242.816, 4779.6023, 3861.20965, 43943.8761, 13635.6379, 5976.8311, 11842.442, 8428.0693, 2566.4707, 15359.1045, 5709.1644, 8823.98575, 7640.3092, 5594.8455, 7441.501, 33471.97189, 1633.0444, 9174.13565, 11070.535, 16085.1275, 17468.9839, 9283.562, 3558.62025, 25678.77845, 4435.0942, 39241.442, 8547.6913, 6571.544, 2207.69745, 6753.038, 1880.07, 42969.8527, 11658.11505, 23306.547, 34439.8559, 10713.644, 3659.346, 40182.246, 9182.17, 34617.84065, 12129.61415, 3736.4647, 6748.5912, 11326.71487, 11365.952, 42983.4585, 10085.846, 1977.815, 3366.6697, 7173.35995, 9391.346, 14410.9321, 2709.1119, 24915.04626, 20149.3229, 12949.1554, 6666.243, 32787.45859, 13143.86485, 4466.6214, 18806.14547, 10141.1362, 6123.5688, 8252.2843, 1712.227, 12430.95335, 9800.8882, 10579.711, 8280.6227, 8527.532, 12244.531, 24667.419, 3410.324, 4058.71245, 26392.26029, 14394.39815, 6435.6237, 22192.43711, 5148.5526, 1136.3994, 27037.9141, 42560.4304, 8703.456, 40003.33225, 45710.20785, 6500.2359, 4837.5823, 3943.5954, 4399.731, 6185.3208, 46200.9851, 7222.78625, 12485.8009, 46130.5265, 12363.547, 10156.7832, 2585.269, 1242.26, 40103.89, 9863.4718, 4766.022, 11244.3769, 7729.64575, 5438.7491, 26236.57997, 34806.4677, 2104.1134, 8068.185, 2362.22905, 2352.96845, 3577.999, 3201.24515, 29186.48236, 40273.6455, 10976.24575, 3500.6123, 2020.5523, 9541.69555, 9504.3103, 5385.3379, 8930.93455, 5375.038, 44400.4064, 10264.4421, 6113.23105, 5469.0066, 1727.54, 10107.2206, 8310.83915, 1984.4533, 2457.502, 12146.971, 9566.9909, 13112.6048, 10848.1343, 12231.6136, 9875.6804, 11264.541, 12979.358, 1263.249, 10106.13425, 40932.4295, 6664.68595, 16657.71745, 2217.6012, 6781.3542, 19361.9988, 10065.413, 4234.927, 9447.25035, 14007.222, 9583.8933, 40419.0191, 3484.331, 36189.1017, 44585.45587, 8604.48365, 18246.4955, 43254.41795, 3757.8448, 8827.2099, 9910.35985, 11737.84884, 1627.28245, 8556.907, 3062.50825, 19539.243, 1906.35825, 14210.53595, 11833.7823, 17128.42608, 5031.26955, 7985.815, 23065.4207, 5428.7277, 36307.7983, 3925.7582, 2416.955, 19040.876, 3070.8087, 9095.06825, 11842.62375, 8062.764, 7050.642, 14319.031, 6933.24225, 27941.28758, 11150.78, 12797.20962, 17748.5062, 7261.741, 10560.4917, 6986.697, 7448.40395, 5934.3798, 9869.8102, 18259.216, 1146.7966, 9386.1613, 24520.264, 4350.5144, 6414.178, 12741.16745, 1917.3184, 5209.57885, 13457.9608, 5662.225, 1252.407, 2731.9122, 21195.818, 7209.4918, 18310.742, 4266.1658, 4719.52405, 11848.141, 17904.52705, 7046.7222, 14313.8463, 2103.08, 38792.6856, 1815.8759, 7731.85785, 28476.73499, 2136.88225, 1131.5066, 3309.7926, 9414.92, 6360.9936, 11013.7119, 4428.88785, 5584.3057, 1877.9294, 2842.76075, 3597.596, 23401.30575, 55135.40209, 7445.918, 2680.9493, 1621.8827, 8219.2039, 12523.6048, 16069.08475, 43813.8661, 20773.62775, 39597.4072, 6117.4945, 13393.756, 5266.3656, 4719.73655, 11743.9341, 5377.4578, 7160.3303, 4402.233, 11657.7189, 6402.29135, 12622.1795, 1526.312, 12323.936, 36021.0112, 27533.9129, 10072.05505, 45008.9555, 9872.701, 2438.0552, 2974.126, 10601.63225, 37270.1512, 14119.62, 42111.6647, 11729.6795, 24106.91255, 1875.344, 40974.1649, 15817.9857, 18218.16139, 10965.446, 46113.511, 7151.092, 12269.68865, 5458.04645, 8782.469, 6600.361, 1141.4451, 11576.13, 13129.60345, 4391.652, 8457.818, 3392.3652, 5966.8874, 6849.026, 8891.1395, 2690.1138, 26140.3603, 6653.7886, 6282.235, 6311.952, 3443.064, 2789.0574, 2585.85065, 46255.1125, 4877.98105, 19719.6947, 27218.43725, 5272.1758, 1682.597, 11945.1327, 29330.98315, 7243.8136, 10422.91665, 44202.6536, 13555.0049, 13063.883, 19798.05455, 2221.56445, 1634.5734, 2117.33885, 8688.85885, 48673.5588, 4661.28635, 8125.7845, 12644.589, 4564.19145, 4846.92015, 7633.7206, 15170.069, 17496.306, 2639.0429, 33732.6867, 14382.70905, 7626.993, 5257.50795, 2473.3341, 21774.32215, 35069.37452, 13041.921, 5245.2269, 13451.122, 13462.52, 5488.262, 4320.41085, 6250.435, 25333.33284, 2913.569, 12032.326, 13470.8044, 6289.7549, 2927.0647, 6238.298, 10096.97, 7348.142, 4673.3922, 12233.828, 32108.66282, 8965.79575, 2304.0022, 9487.6442, 1121.8739, 9549.5651, 2217.46915, 1628.4709, 12982.8747, 11674.13, 7160.094, 39047.285, 6358.77645, 19933.458, 11534.87265, 47462.894, 4527.18295, 38998.546, 20009.63365, 3875.7341, 41999.52, 12609.88702, 41034.2214, 28468.91901, 2730.10785, 3353.284, 14474.675, 9500.57305, 26467.09737, 4746.344, 23967.38305, 7518.02535, 3279.86855, 8596.8278, 10702.6424, 4992.3764, 2527.81865, 1759.338, 2322.6218, 16138.76205, 7804.1605, 2902.9065, 9704.66805, 4889.0368, 25517.11363, 4500.33925, 19199.944, 16796.41194, 4915.05985, 7624.63, 8410.04685, 28340.18885, 4518.82625, 14571.8908, 3378.91, 7144.86265, 10118.424, 5484.4673, 16420.49455, 7986.47525, 7418.522, 13887.9685, 6551.7501, 5267.81815, 17361.7661, 34472.841, 1972.95, 21232.18226, 8627.5411, 4433.3877, 4438.2634, 24915.22085, 23241.47453, 9957.7216, 8269.044, 18767.7377, 36580.28216, 8765.249, 5383.536, 12124.9924, 2709.24395, 3987.926, 12495.29085, 26018.95052, 8798.593, 35595.5898, 42211.1382, 1711.0268, 8569.8618, 2020.177, 16450.8947, 21595.38229, 9850.432, 6877.9801, 21677.28345, 44423.803, 4137.5227, 13747.87235, 12950.0712, 12094.478, 37484.4493, 39725.51805, 2250.8352, 22493.65964, 20234.85475, 1704.70015, 33475.81715, 3161.454, 11394.06555, 21880.82, 7325.0482, 44501.3982, 3594.17085, 39727.614, 8023.13545, 14394.5579, 9288.0267, 25309.489, 3353.4703, 10594.50155, 8277.523, 17929.30337, 2480.9791, 4462.7218, 1981.5819, 11554.2236, 48970.2476, 6548.19505, 5708.867, 7045.499, 8978.1851, 5757.41345, 14349.8544, 10928.849, 39871.7043, 13974.45555, 1909.52745, 12096.6512, 13204.28565, 4562.8421, 8551.347, 2102.2647, 34672.1472, 15161.5344, 11884.04858, 4454.40265, 5855.9025, 4076.497, 15019.76005, 19023.26, 10796.35025, 11353.2276, 9748.9106, 10577.087, 41676.0811, 11286.5387, 3591.48, 33907.548, 11299.343, 4561.1885, 44641.1974, 1674.6323, 23045.56616, 3227.1211, 16776.30405, 11253.421, 3471.4096, 11363.2832, 20420.60465, 10338.9316, 8988.15875, 10493.9458, 2904.088, 8605.3615, 11512.405, 41949.2441, 24180.9335, 5312.16985, 2396.0959, 10807.4863, 9222.4026, 36124.5737, 38282.7495, 5693.4305, 34166.273, 8347.1643, 46661.4424, 18903.49141, 40904.1995, 14254.6082, 10214.636, 5836.5204, 14358.36437, 1728.897, 8582.3023, 3693.428, 20709.02034, 9991.03765, 19673.33573, 11085.5868, 7623.518, 3176.2877, 3704.3545, 36898.73308, 9048.0273, 7954.517, 27117.99378, 6338.0756, 9630.397, 11289.10925, 52590.82939, 2261.5688, 10791.96, 5979.731, 2203.73595, 12235.8392, 40941.2854, 5630.45785, 11015.1747, 7228.21565, 39722.7462, 14426.07385, 2459.7201, 3989.841, 7727.2532, 5124.1887, 18963.17192, 2200.83085, 7153.5539, 5227.98875, 10982.5013, 4529.477, 4670.64, 6112.35295, 17178.6824, 22478.6, 11093.6229, 6457.8434, 4433.9159, 2154.361, 23887.6627, 6496.886, 2899.48935, 19350.3689, 7650.77375, 2850.68375, 2632.992, 9447.3824, 18328.2381, 8603.8234, 37465.34375, 13844.7972, 21771.3423, 13126.67745, 5327.40025, 13725.47184, 13019.16105, 8671.19125, 4134.08245, 18838.70366, 33307.5508, 5699.8375, 6393.60345, 4934.705, 6198.7518, 8733.22925, 2055.3249, 9964.06, 18223.4512, 5116.5004, 36910.60803, 38415.474, 20296.86345, 12347.172, 5373.36425, 23563.01618, 1702.4553, 10806.839, 3956.07145, 12890.05765, 5415.6612, 4058.1161, 41661.602, 7537.1639, 4718.20355, 6593.5083, 8442.667, 26125.67477, 6858.4796, 4795.6568, 6640.54485, 7162.0122, 10594.2257, 11938.25595, 60021.39897, 20167.33603, 12479.70895, 11345.519, 8515.7587, 2699.56835, 14449.8544, 12224.35085, 6985.50695, 3238.4357, 47269.854, 49577.6624, 4296.2712, 3171.6149, 1135.9407, 5615.369, 9101.798, 6059.173, 1633.9618, 37607.5277, 18648.4217, 1241.565, 16232.847, 15828.82173, 4415.1588, 6474.013, 11436.73815, 11305.93455, 30063.58055, 10197.7722, 4544.2348, 3277.161, 6770.1925, 7337.748, 10370.91255, 26926.5144, 10704.47, 34254.05335, 1880.487, 8615.3, 3292.52985, 3021.80915, 14478.33015, 4747.0529, 17043.3414, 10959.33, 2741.948, 4357.04365, 22462.04375, 4189.1131, 8283.6807, 24535.69855, 14283.4594, 1720.3537, 47403.88, 8534.6718, 3732.6251, 5472.449, 38344.566, 7147.4728, 7133.9025, 34828.654, 1515.3449, 9301.89355, 11931.12525, 1964.78, 1708.92575, 4340.4409, 5261.46945, 2710.82855, 62592.87309, 46718.16325, 3208.787, 37829.7242, 21259.37795, 2464.6188, 16115.3045, 21472.4788, 33900.653, 6875.961, 6940.90985, 4571.41305, 4536.259, 36397.576, 18765.87545, 11272.33139, 1731.677, 1163.4627, 19496.71917, 7201.70085, 5425.02335, 28101.33305, 12981.3457, 43896.3763, 4239.89265, 13143.33665, 7050.0213, 9377.9047, 22395.74424, 10325.206, 12629.1656, 10795.93733, 11411.685, 10600.5483, 2205.9808, 1629.8335, 2007.945, 29141.3603]\n"
     ]
    }
   ],
   "source": [
    "import csv\n",
    "\n",
    "ages = []\n",
    "costs = []\n",
    "\n",
    "with open(\"../data/insurance.csv\") as insurance_data:\n",
    "    insurance_dict = csv.DictReader(insurance_data)\n",
    "    for row in insurance_dict:\n",
    "        ages.append(int(row['age']))\n",
    "        costs.append(float(row['charges']))\n",
    "        \n",
    "print(ages)\n",
    "print(costs)"
   ]
  },
  {
   "cell_type": "code",
   "execution_count": 39,
   "metadata": {},
   "outputs": [
    {
     "name": "stdout",
     "output_type": "stream",
     "text": [
      "{(18, 25): {'total_charges': 2780626.8369189994, 'count': 306}, (26, 35): {'total_charges': 2812703.696569999, 'count': 268}, (36, 45): {'total_charges': 3562280.1051499997, 'count': 264}, (46, 55): {'total_charges': 4540279.68791, 'count': 284}, (56, 65): {'total_charges': 4059934.6642099973, 'count': 216}}\n"
     ]
    }
   ],
   "source": [
    "def age_vs_cost(ages, costs):\n",
    "    age_bins = {\n",
    "        (18, 25): {\"total_charges\": 0, \"count\": 0},\n",
    "        (26, 35): {\"total_charges\": 0, \"count\": 0},\n",
    "        (36, 45): {\"total_charges\": 0, \"count\": 0},\n",
    "        (46, 55): {\"total_charges\": 0, \"count\": 0},\n",
    "        (56, 65): {\"total_charges\": 0, \"count\": 0}\n",
    "    }\n",
    "\n",
    "    for person_age, person_cost in zip(ages, costs):\n",
    "        for bin_range in age_bins:\n",
    "            if bin_range[0] <= person_age <= bin_range[1]:\n",
    "                age_bins[bin_range][\"total_charges\"] += person_cost\n",
    "                age_bins[bin_range][\"count\"] += 1\n",
    "                break\n",
    "\n",
    "    return age_bins\n",
    "\n",
    "age_bin_data = age_vs_cost(ages, costs)\n",
    "print(age_bin_data)"
   ]
  },
  {
   "cell_type": "code",
   "execution_count": 40,
   "metadata": {},
   "outputs": [
    {
     "data": {
      "image/png": "[encoded data removed]",
      "text/plain": [
       "<Figure size 640x480 with 1 Axes>"
      ]
     },
     "metadata": {},
     "output_type": "display_data"
    }
   ],
   "source": [
    "import matplotlib.pyplot as plt\n",
    "\n",
    "age_labels = [f\"{age_range[0]}-{age_range[1]}\" for age_range in age_bin_data.keys()]\n",
    "average_costs = [data[\"total_charges\"] / data[\"count\"] if data[\"count\"] > 0 else 0 for data in age_bin_data.values()]\n",
    "\n",
    "plt.bar(age_labels, average_costs)\n",
    "plt.xlabel(\"Age Group\")\n",
    "plt.ylabel(\"Average Medical Cost\")\n",
    "plt.title(\"Average Medical Cost by Age Group\")\n",
    "plt.xticks(rotation=45)\n",
    "plt.show()"
   ]
  },
  {
   "cell_type": "markdown",
   "metadata": {},
   "source": [
    "The chart clearly illustrates a progressive increase in average medical insurance cost as age rises, which reflects real-world dynamic. It’s a reflection of how risk-based pricing and age-related health trends shape insurance economics."
   ]
  },
  {
   "cell_type": "code",
   "execution_count": null,
   "metadata": {
    "scrolled": true
   },
   "outputs": [],
   "source": []
  },
  {
   "cell_type": "markdown",
   "metadata": {},
   "source": []
  },
  {
   "cell_type": "markdown",
   "metadata": {},
   "source": []
  },
  {
   "cell_type": "code",
   "execution_count": null,
   "metadata": {},
   "outputs": [],
   "source": []
  }
 ],
 "metadata": {
  "kernelspec": {
   "display_name": "base",
   "language": "python",
   "name": "python3"
  },
  "language_info": {
   "codemirror_mode": {
    "name": "ipython",
    "version": 3
   },
   "file_extension": ".py",
   "mimetype": "text/x-python",
   "name": "python",
   "nbconvert_exporter": "python",
   "pygments_lexer": "ipython3",
   "version": "3.12.7"
  }
 },
 "nbformat": 4,
 "nbformat_minor": 4
}
